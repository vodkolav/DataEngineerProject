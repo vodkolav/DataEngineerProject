{
 "cells": [
  {
   "cell_type": "code",
   "execution_count": 1,
   "metadata": {},
   "outputs": [],
   "source": [
    "from kafka import KafkaProducer\n",
    "from kafka import KafkaConsumer\n",
    "import pyarrow as pa\n",
    "from datetime import datetime\n",
    "import json\n",
    "from time import sleep\n",
    "import csv\n",
    "import re\n",
    "import os.path as osp\n",
    "import os\n",
    "import shutil\n",
    "\n",
    "# HDFS\n",
    "host = 'localhost'\n",
    "hdfs_port = 8020\n",
    "hdfs_username = 'hdfs'\n",
    "hdfs_password = 'naya'\n",
    "hdfs_driver = 'libhdfs'\n",
    "hdfs_kerberos_ticket = None\n",
    "hdfs_extra_conf = None\n",
    "stg_dir = '/tmp/project/'\n",
    "\n",
    "# # Topics/Brokers\n",
    "topic1 = 'TweeterArchive'\n",
    "brokers = ['localhost:9092']\n"
   ]
  },
  {
   "cell_type": "code",
   "execution_count": 2,
   "metadata": {},
   "outputs": [],
   "source": [
    "consumer = KafkaConsumer(\n",
    "    topic1,\n",
    "    group_id = 'File_MySQL_HDFS',\n",
    "    bootstrap_servers = ['localhost:9092'],\n",
    "    auto_offset_reset = 'largest',\n",
    "    enable_auto_commit = True,\n",
    "    auto_commit_interval_ms = 1000)"
   ]
  },
  {
   "cell_type": "code",
   "execution_count": 3,
   "metadata": {},
   "outputs": [],
   "source": [
    "fs = pa.hdfs.connect(\n",
    "    host='localhost', \n",
    "    port=8020, \n",
    "    user='hdfs', \n",
    "    kerb_ticket=None, \n",
    "    driver='libhdfs', \n",
    "    extra_conf=None)"
   ]
  },
  {
   "cell_type": "code",
   "execution_count": 4,
   "metadata": {},
   "outputs": [],
   "source": [
    "#create hdsf staging dir if needed\n",
    "\n",
    "if fs.exists(stg_dir):\n",
    "    fs.rm(stg_dir, recursive=True)\n",
    "    fs.mkdir(stg_dir)\n",
    "else:\n",
    "    fs.mkdir(stg_dir)"
   ]
  },
  {
   "cell_type": "code",
   "execution_count": 5,
   "metadata": {},
   "outputs": [],
   "source": [
    "#create local staging dir if needed\n",
    "\n",
    "if  osp.exists(stg_dir):\n",
    "    shutil.rmtree(stg_dir, ignore_errors=True)\n",
    "    os.mkdir(stg_dir)\n",
    "else:\n",
    "    os.mkdir(stg_dir)"
   ]
  },
  {
   "cell_type": "code",
   "execution_count": null,
   "metadata": {},
   "outputs": [],
   "source": [
    "for i, message in enumerate(consumer):\n",
    "    events = json.loads(message.value)\n",
    "    event_ts = 'event_' + datetime.now().strftime(\"%Y_%m_%d_%H-%M-%S\") + '.json'  \n",
    "    print(events) \n",
    "    file_path = '/tmp/project/' + event_ts\n",
    "    with open(file_path,'w') as f:\n",
    "        json.dump(events, f)\n",
    "    with  open(file_path, 'rb') as f:\n",
    "        fs.upload(file_path, f)  "
   ]
  },
  {
   "cell_type": "code",
   "execution_count": null,
   "metadata": {},
   "outputs": [],
   "source": []
  }
 ],
 "metadata": {
  "kernelspec": {
   "display_name": "Python 3",
   "language": "python",
   "name": "python3"
  },
  "language_info": {
   "codemirror_mode": {
    "name": "ipython",
    "version": 3
   },
   "file_extension": ".py",
   "mimetype": "text/x-python",
   "name": "python",
   "nbconvert_exporter": "python",
   "pygments_lexer": "ipython3",
   "version": "3.6.6"
  }
 },
 "nbformat": 4,
 "nbformat_minor": 2
}
