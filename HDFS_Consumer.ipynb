{
 "cells": [
  {
   "cell_type": "code",
   "execution_count": 1,
   "metadata": {},
   "outputs": [],
   "source": [
    "from kafka import KafkaProducer\n",
    "from kafka import KafkaConsumer\n",
    "import pyarrow as pa\n",
    "from datetime import datetime\n",
    "import json\n",
    "from time import sleep\n",
    "import csv\n",
    "import re\n",
    "# HDFS\n",
    "host = 'localhost'\n",
    "hdfs_port = 8020\n",
    "hdfs_username = 'hdfs'\n",
    "hdfs_password = 'naya'\n",
    "hdfs_driver = 'libhdfs'\n",
    "hdfs_kerberos_ticket = None\n",
    "hdfs_extra_conf = None\n",
    "stg_dir = '/tmp/project/'\n",
    "\n",
    "# # Topics/Brokers\n",
    "topic1 = 'TweeterArchive'\n",
    "brokers = ['localhost:9092']\n"
   ]
  },
  {
   "cell_type": "code",
   "execution_count": 2,
   "metadata": {},
   "outputs": [],
   "source": [
    "consumer = KafkaConsumer(\n",
    "    topic1,\n",
    "    group_id = 'File_MySQL_HDFS',\n",
    "    bootstrap_servers = ['localhost:9092'],\n",
    "    auto_offset_reset = 'largest',\n",
    "    enable_auto_commit = True,\n",
    "    auto_commit_interval_ms = 1000)"
   ]
  },
  {
   "cell_type": "code",
   "execution_count": 3,
   "metadata": {},
   "outputs": [],
   "source": [
    "fs = pa.hdfs.connect(\n",
    "    host='localhost', \n",
    "    port=8020, \n",
    "    user='hdfs', \n",
    "    kerb_ticket=None, \n",
    "    driver='libhdfs', \n",
    "    extra_conf=None)"
   ]
  },
  {
   "cell_type": "code",
   "execution_count": 4,
   "metadata": {},
   "outputs": [],
   "source": [
    "#create hdsf staging dir if needed\n",
    "\n",
    "if fs.exists(stg_dir):\n",
    "    fs.rm(stg_dir, recursive=True)\n",
    "    fs.mkdir(stg_dir)\n",
    "else:\n",
    "    fs.mkdir(stg_dir)"
   ]
  },
  {
   "cell_type": "code",
   "execution_count": 5,
   "metadata": {},
   "outputs": [],
   "source": [
    "#create local staging dir if needed\n",
    "import os.path as osp\n",
    "import os\n",
    "import shutil\n",
    "\n",
    "\n",
    "if  osp.exists(stg_dir):\n",
    "    shutil.rmtree(stg_dir, ignore_errors=True)\n",
    "    os.mkdir(stg_dir)\n",
    "else:\n",
    "    os.mkdir(stg_dir)"
   ]
  },
  {
   "cell_type": "code",
   "execution_count": null,
   "metadata": {},
   "outputs": [],
   "source": [
    "from datetime import datetime\n",
    "    \n",
    "for i, message in enumerate(consumer):\n",
    "    events = json.loads(message.value)\n",
    "    #print(events['text'])   \n",
    "    print(str(message.value))\n",
    "    event_ts = 'event_' + datetime.now().strftime(\"%Y_%m_%d_%H-%M-%S\") + '.json'    \n",
    "    # example: /tmp/project/event_2019_12_04_13-15-36.json\n",
    "    file_path = stg_dir + event_ts \n",
    "    print(file_path)\n",
    "    with  open(file_path, 'w') as f:\n",
    "        f.write(message.value.decode('utf-8'))\n",
    "        #f.write(events['text'])\n",
    "        f.flush()\n",
    "    with  open(file_path, 'rb') as f:\n",
    "        fs.upload(file_path, f)\n",
    "  "
   ]
  },
  {
   "cell_type": "code",
   "execution_count": 15,
   "metadata": {},
   "outputs": [],
   "source": [
    "hdfs_event_counter = 0\n",
    "hdfs_stg_dir = '/tmp/project/'\n",
    "hdfs_flush_iteration = 10"
   ]
  },
  {
   "cell_type": "code",
   "execution_count": 17,
   "metadata": {},
   "outputs": [],
   "source": [
    "if fs.exists(hdfs_stg_dir):\n",
    "    fs.rm(hdfs_stg_dir, recursive=True)\n",
    "    fs.mkdir(hdfs_stg_dir)\n",
    "else:\n",
    "    fs.mkdir(hdfs_stg_dir)"
   ]
  },
  {
   "cell_type": "code",
   "execution_count": 18,
   "metadata": {},
   "outputs": [
    {
     "name": "stdout",
     "output_type": "stream",
     "text": [
      "event_2019_12_02_21-03-48\n"
     ]
    }
   ],
   "source": [
    "from datetime import datetime\n",
    "# event_ts = 'event_' + str(datetime.now()).replace(' ', '_').replace(':','_').replace('.','_')\n",
    "event_ts = 'event_' + datetime.now().strftime(\"%Y_%m_%d_%H-%M-%S\") + '.json'\n",
    "print(event_ts)\n",
    "file_path = '/tmp/project/' + event_ts \n"
   ]
  },
  {
   "cell_type": "code",
   "execution_count": null,
   "metadata": {},
   "outputs": [],
   "source": [
    "with  open(file_path, 'w') as f:\n",
    "    f.write()\n",
    "    f.flush()"
   ]
  },
  {
   "cell_type": "code",
   "execution_count": null,
   "metadata": {},
   "outputs": [],
   "source": [
    " fs.upload(hdfs_file_name, hdfs_stg_dir + hdfs_file_name)"
   ]
  },
  {
   "cell_type": "code",
   "execution_count": 17,
   "metadata": {},
   "outputs": [
    {
     "ename": "TypeError",
     "evalue": "unsupported operand type(s) for +: 'datetime.datetime' and 'str'",
     "output_type": "error",
     "traceback": [
      "\u001b[0;31m---------------------------------------------------------------------------\u001b[0m",
      "\u001b[0;31mTypeError\u001b[0m                                 Traceback (most recent call last)",
      "\u001b[0;32m<ipython-input-17-be3d5e908e64>\u001b[0m in \u001b[0;36m<module>\u001b[0;34m\u001b[0m\n\u001b[0;32m----> 1\u001b[0;31m \u001b[0mhdfs_file_name\u001b[0m \u001b[0;34m=\u001b[0m \u001b[0mevent_ts\u001b[0m \u001b[0;34m+\u001b[0m \u001b[0;34m'.csv'\u001b[0m\u001b[0;34m\u001b[0m\u001b[0m\n\u001b[0m\u001b[1;32m      2\u001b[0m \u001b[0mf\u001b[0m \u001b[0;34m=\u001b[0m \u001b[0mopen\u001b[0m\u001b[0;34m(\u001b[0m\u001b[0mhdfs_file_name\u001b[0m\u001b[0;34m,\u001b[0m \u001b[0;34m'w'\u001b[0m\u001b[0;34m)\u001b[0m\u001b[0;34m\u001b[0m\u001b[0m\n",
      "\u001b[0;31mTypeError\u001b[0m: unsupported operand type(s) for +: 'datetime.datetime' and 'str'"
     ]
    }
   ],
   "source": [
    " hdfs_file_name = event_ts + '.csv'\n",
    " f = open(hdfs_file_name, 'w')"
   ]
  },
  {
   "cell_type": "code",
   "execution_count": null,
   "metadata": {},
   "outputs": [],
   "source": []
  },
  {
   "cell_type": "code",
   "execution_count": null,
   "metadata": {},
   "outputs": [],
   "source": []
  },
  {
   "cell_type": "code",
   "execution_count": null,
   "metadata": {},
   "outputs": [],
   "source": []
  },
  {
   "cell_type": "code",
   "execution_count": null,
   "metadata": {},
   "outputs": [],
   "source": []
  }
 ],
 "metadata": {
  "kernelspec": {
   "display_name": "Python 3",
   "language": "python",
   "name": "python3"
  },
  "language_info": {
   "codemirror_mode": {
    "name": "ipython",
    "version": 3
   },
   "file_extension": ".py",
   "mimetype": "text/x-python",
   "name": "python",
   "nbconvert_exporter": "python",
   "pygments_lexer": "ipython3",
   "version": "3.6.6"
  }
 },
 "nbformat": 4,
 "nbformat_minor": 2
}
