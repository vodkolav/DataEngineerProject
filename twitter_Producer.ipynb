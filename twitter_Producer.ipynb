{
 "cells": [
  {
   "cell_type": "code",
   "execution_count": null,
   "metadata": {},
   "outputs": [],
   "source": [
    "import json\n",
    "import tweepy\n",
    "import sys\n",
    "import traceback\n",
    "from datetime import datetime, timezone\n",
    "from kafka import KafkaProducer\n",
    "from config import Keywords , event_fields, user_fields, consumer_key,\\\n",
    "                    consumer_secret, access_token, access_secret, poll_continiously"
   ]
  },
  {
   "cell_type": "code",
   "execution_count": null,
   "metadata": {},
   "outputs": [],
   "source": [
    "# Probably you can compare the performance of opposing hashtags insuch way\n",
    "#Keywords = \"#OwenJonesIsAWankerDay #SolidarityWithOwenJonesDay\""
   ]
  },
  {
   "cell_type": "code",
   "execution_count": null,
   "metadata": {},
   "outputs": [],
   "source": [
    "class TwitterStreamListener(tweepy.StreamListener):\n",
    "    def __init__(self):\n",
    "        self.producer = KafkaProducer(bootstrap_servers='localhost:9092',\n",
    "                                      key_serializer=str.encode, \n",
    "                                      value_serializer=lambda v: json.dumps(v).encode('utf-8'))\n",
    "\n",
    "        self.datefmt = \"%a %b %d %H:%M:%S %z %Y\"\n",
    "        self.topic = \"TweeterArchive\"\n",
    "        self.tweets = []\n",
    "        self.rawdata = [] \n",
    "        self.count = 0\n",
    "        self.ltweet = ''        \n",
    "        self.status = 'waiting for tweets...'\n",
    "        \n",
    "    def on_data(self, data):\n",
    "        # data is the full *tweet* json data\n",
    "        api_events = json.loads(data)\n",
    "        \n",
    "        # save raw json data in memory array for debugging\n",
    "        self.rawdata.append(data)\n",
    "        \n",
    "        #filter out retweets\n",
    "        if not api_events['text'].startswith('RT'):\n",
    "            \n",
    "            # Gathering relevant values\n",
    "            # Tweet-related values\n",
    "            twitter_events = {k:v for k,v in api_events.items() \n",
    "                              if k in event_fields}    \n",
    "            \n",
    "            tweet_key, tweet_created_at = self.date_fmt_convert(twitter_events['created_at'])\n",
    "                        \n",
    "            twitter_events['created_at'] = tweet_created_at\n",
    "            \n",
    "            # When tweets are longer than 140 symbols, the 'text' field gets truncated, and the\n",
    "            # full text is in ['extended_tweet']['full_text']\n",
    "            if 'extended_tweet' in api_events:\n",
    "                twitter_events['text'] = api_events['extended_tweet']['full_text']\n",
    "\n",
    "            # User-related values\n",
    "\n",
    "            user_events = {k:v for k,v in api_events['user'].items() \n",
    "                           if k in user_fields}\n",
    "           \n",
    "            user_events['created_ym'], user_events['created_at'] =\\\n",
    "            self.date_fmt_convert(user_events['created_at'],fmt = \"%Y%m\") \n",
    "\n",
    "            twitter_events['user_id'] = user_events['id'] \n",
    "            twitter_events['user_followers'] = user_events['followers_count']\n",
    "            \n",
    "            events = {'users':user_events, 'tweets': twitter_events }                \n",
    "\n",
    "            # save processed dictionary in memory array for debugging\n",
    "            self.tweets.append((tweet_key,events))\n",
    "            # print last tweet to console on the same line\n",
    "            self.ltweet = events['tweets']['text'][:50].replace('\\n','')\n",
    "             \n",
    "            self.send_to_kafka(str(tweet_key), events)                 \n",
    "            \n",
    "        self.status = 'tweets received: '+ str(self.count) + '| last relevant tweet: ' + self.ltweet           \n",
    "        self.count+=1        \n",
    "\n",
    "    def send_to_kafka(self, key, data):  \n",
    "        \n",
    "        # send data to kafka topic(s)\n",
    "        #self.producer.send('TweeterArchive', events)\n",
    "        #self.producer.send('TweeterData', events) \n",
    "        self.producer.send(self.topic, key = key, value = data)\n",
    "        self.producer.flush()\n",
    "        \n",
    "    def date_fmt_convert(self, date, fmt = \"%Y%m%d%H%M\"):        \n",
    "        # Convert twitter datetime format such as \n",
    "        # \"Sat Jan 4 11:39:13 +0500 2019\"\n",
    "        # to partitioning-compatible format and shift it to utc, so: \n",
    "        # key (int): 201901040639, timestamp (int): 1547420603\n",
    "        date_time_obj = datetime.strptime(date, self.datefmt)\n",
    "        date_time_obj.astimezone(tz=timezone.utc)\n",
    "        return date_time_obj.strftime(fmt), int(date_time_obj.timestamp())\n",
    "\n",
    "\n",
    "    def on_error(self, status_code):\n",
    "        if status_code == 420:\n",
    "            return False"
   ]
  },
  {
   "cell_type": "code",
   "execution_count": null,
   "metadata": {},
   "outputs": [],
   "source": [
    "auth = tweepy.OAuthHandler(consumer_key, consumer_secret)\n",
    "auth.set_access_token(access_token, access_secret)\n",
    "api = tweepy.API(auth)\n",
    "streamListener = TwitterStreamListener()\n",
    "#property injection into an object at runtime\n",
    "tweepy.Stream.status = property(lambda self : self.listener.status if self.running else \"Stopped\")\n",
    "twitter_stream = tweepy.Stream(auth=api.auth, listener=streamListener)\n",
    "twitter_stream.filter(track=[Keywords], languages=['en'], is_async=True) # -filter:retweets"
   ]
  },
  {
   "cell_type": "code",
   "execution_count": null,
   "metadata": {},
   "outputs": [],
   "source": [
    "poll_continiously(twitter_stream,attrname='status')"
   ]
  },
  {
   "cell_type": "code",
   "execution_count": null,
   "metadata": {},
   "outputs": [],
   "source": [
    "twitter_stream.disconnect() #only uncommment this when you want tot stop stream "
   ]
  }
 ],
 "metadata": {
  "kernelspec": {
   "display_name": "Python 3",
   "language": "python",
   "name": "python3"
  },
  "language_info": {
   "codemirror_mode": {
    "name": "ipython",
    "version": 3
   },
   "file_extension": ".py",
   "mimetype": "text/x-python",
   "name": "python",
   "nbconvert_exporter": "python",
   "pygments_lexer": "ipython3",
   "version": "3.6.6"
  }
 },
 "nbformat": 4,
 "nbformat_minor": 2
}
