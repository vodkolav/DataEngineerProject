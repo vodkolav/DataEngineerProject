{
 "cells": [
  {
   "cell_type": "code",
   "execution_count": null,
   "metadata": {},
   "outputs": [],
   "source": [
    "import json\n",
    "import tweepy\n",
    "from datetime import datetime, timezone\n",
    "from kafka import KafkaProducer"
   ]
  },
  {
   "cell_type": "code",
   "execution_count": null,
   "metadata": {},
   "outputs": [],
   "source": [
    "consumer_key    = 'T3bxHQI78bQSMxhryPQk4rgMs'\n",
    "consumer_secret = 'uZEP6eLjUGGkS4YtRvm3PISnpMlho7vniHKeoZMF2NVu9B6rpe'\n",
    "access_token    = '1207006565074640897-c761jqaeRPkTPeyjBFxlPqsirDhYQ1'\n",
    "access_secret   = 'qmJiaHbct4hshX4mcVIx2BuKCPdo8xndNPb7bOLes4MOs'"
   ]
  },
  {
   "cell_type": "code",
   "execution_count": null,
   "metadata": {},
   "outputs": [],
   "source": [
    "# Probably you can compare the performance of opposing hashtags insuch way\n",
    "#Keywords = \"#OwenJonesIsAWankerDay #SolidarityWithOwenJonesDay\""
   ]
  },
  {
   "cell_type": "code",
   "execution_count": null,
   "metadata": {},
   "outputs": [],
   "source": [
    "Keywords = 'Israel'"
   ]
  },
  {
   "cell_type": "code",
   "execution_count": null,
   "metadata": {},
   "outputs": [],
   "source": [
    "class TwitterStreamListener(tweepy.StreamListener):\n",
    "    def __init__(self):\n",
    "        self.producer = KafkaProducer(bootstrap_servers='localhost:9092',\n",
    "                                      key_serializer=str.encode, \n",
    "                                      value_serializer=lambda v: json.dumps(v).encode('utf-8'))\n",
    "\n",
    "        self.datefmt = \"%a %b %d %H:%M:%S %z %Y\"\n",
    "        self.topic = \"TweeterArchive\"\n",
    "        self.tweets = []\n",
    "        self.rawdata = [] \n",
    "        self.count = 0\n",
    "    def on_data(self, data):\n",
    "        # data is the full *tweet* json data\n",
    "        api_events = json.loads(data)\n",
    "        \n",
    "        #filter out retweets\n",
    "        if not api_events['text'].startswith('RT'):            \n",
    "            \n",
    "            # Gathering relevant values\n",
    "            # Tweet-related values\n",
    "            event_keys = ['created_at', 'id', 'text', 'geo', 'coordinates', 'place',\n",
    "                          \"quote_count\", \"reply_count\", \"retweet_count\", \"favorite_count\" ]\n",
    "            twitter_events = {k:v for k,v in api_events.items() \n",
    "                              if k in event_keys}                    \n",
    "            \n",
    "            # When tweets are longer than 140 symbols, the 'text' field gets truncated, and the\n",
    "            # full text is in ['extended_tweet']['full_text']\n",
    "            if 'extended_tweet' in api_events:\n",
    "                twitter_events['text'] = api_events['extended_tweet']['full_text']\n",
    "\n",
    "            # User-related values\n",
    "            user_keys = ['id', 'name', 'screen_name','created_at', 'location', 'url',\n",
    "                         'protected', 'verified', 'followers_count', 'friends_count',\n",
    "                         'listed_count', 'favourites_count', 'statuses_count', 'withheld_in_countries']\n",
    "            user_events = {k:v for k,v in api_events['user'].items() \n",
    "                           if k in user_keys}\n",
    "\n",
    "            events = {'user':user_events, 'tweet': twitter_events }\n",
    "    \n",
    "            key = self.date_fmt_convert(twitter_events['created_at'])\n",
    "            \n",
    "            # save raw json data in memory array for debugging\n",
    "            self.rawdata.append(data)\n",
    "            # save processed dictionary in memory array for debugging\n",
    "            self.tweets.append(events)\n",
    "            # print last tweet to console on the same line\n",
    "            ltweet = events['tweet']['text'][:50].replace('\\n','')\n",
    "            print('\\r tweets received: '+ str(self.count) + '| last tweet: ' + ltweet,end='')\n",
    "             \n",
    "            self.send_to_kafka(key, events)                     \n",
    "        self.count+=1        \n",
    "\n",
    "    def send_to_kafka(self, key, data):  \n",
    "        \n",
    "        # send data to kafka topic(s)\n",
    "        #self.producer.send('TweeterArchive', events)\n",
    "        #self.producer.send('TweeterData', events) \n",
    "        self.producer.send(self.topic, key = key, value = data)\n",
    "        self.producer.flush()\n",
    "        \n",
    "    def date_fmt_convert(self, date):        \n",
    "        # Convert twitter datetime format such as \n",
    "        # \"Sat Jan 4 11:39:13 +0500 2019\"\n",
    "        # to partitioning-compatible format and shift it to utc, so: \n",
    "        # '2019-01-04_06-39'\n",
    "        date_time_obj = datetime.strptime(date, self.datefmt)\n",
    "        date_time_obj = date_time_obj.astimezone(tz=timezone.utc)\n",
    "        return date_time_obj.strftime(\"%Y-%m-%d_%H-%M\")\n",
    "\n",
    " \n",
    "    def on_error(self, status_code):\n",
    "        if status_code == 420:\n",
    "            return False"
   ]
  },
  {
   "cell_type": "code",
   "execution_count": null,
   "metadata": {},
   "outputs": [],
   "source": [
    "def initialize():\n",
    "    auth = tweepy.OAuthHandler(consumer_key, consumer_secret)\n",
    "    auth.set_access_token(access_token, access_secret)\n",
    "    api = tweepy.API(auth)\n",
    "\n",
    "    stream = TwitterStreamListener()\n",
    "    twitter_stream = tweepy.Stream(auth=api.auth, listener=stream)\n",
    "    twitter_stream.filter(track=[Keywords], languages=['en']) # -filter:retweets"
   ]
  },
  {
   "cell_type": "code",
   "execution_count": null,
   "metadata": {},
   "outputs": [],
   "source": [
    "initialize()"
   ]
  },
  {
   "cell_type": "markdown",
   "metadata": {},
   "source": [
    "## Sandbox \n",
    "below are cells that I played with to test portions of code\n"
   ]
  },
  {
   "cell_type": "code",
   "execution_count": null,
   "metadata": {},
   "outputs": [],
   "source": [
    "wat = stream.tweets"
   ]
  },
  {
   "cell_type": "code",
   "execution_count": null,
   "metadata": {},
   "outputs": [],
   "source": [
    "wat"
   ]
  },
  {
   "cell_type": "code",
   "execution_count": null,
   "metadata": {},
   "outputs": [],
   "source": [
    "len(wat)\n",
    "wat4 = wat[20]\n",
    "i=0"
   ]
  },
  {
   "cell_type": "code",
   "execution_count": null,
   "metadata": {},
   "outputs": [],
   "source": [
    "i+=1\n",
    "print(json.loads(wat[i])['text'])\n",
    "\n",
    "print('-'*100)\n",
    "print(json.loads(wat[i])['extended_tweet']['full_text'])\n"
   ]
  },
  {
   "cell_type": "code",
   "execution_count": null,
   "metadata": {},
   "outputs": [],
   "source": [
    "wat[i]"
   ]
  },
  {
   "cell_type": "code",
   "execution_count": null,
   "metadata": {},
   "outputs": [],
   "source": [
    "print(json.loads(wat[i])['extended_tweet']['full_text'])"
   ]
  },
  {
   "cell_type": "code",
   "execution_count": null,
   "metadata": {},
   "outputs": [],
   "source": [
    "print(json.dumps(json.loads(wat[i])))"
   ]
  },
  {
   "cell_type": "code",
   "execution_count": null,
   "metadata": {},
   "outputs": [],
   "source": [
    "wat4"
   ]
  },
  {
   "cell_type": "code",
   "execution_count": null,
   "metadata": {},
   "outputs": [],
   "source": [
    "api_event = json.loads(wat4)"
   ]
  },
  {
   "cell_type": "code",
   "execution_count": null,
   "metadata": {},
   "outputs": [],
   "source": [
    "api_event['retweeted']"
   ]
  },
  {
   "cell_type": "code",
   "execution_count": null,
   "metadata": {},
   "outputs": [],
   "source": [
    "api_event"
   ]
  },
  {
   "cell_type": "code",
   "execution_count": null,
   "metadata": {},
   "outputs": [],
   "source": [
    "str_event = json.dumps(api_event, ensure_ascii=False)\n",
    "str_event"
   ]
  },
  {
   "cell_type": "code",
   "execution_count": null,
   "metadata": {},
   "outputs": [],
   "source": [
    "with open('./test.json','w') as f:\n",
    "    str_event = json.dump(api_event,f, ensure_ascii=False)\n",
    "str_event"
   ]
  },
  {
   "cell_type": "code",
   "execution_count": null,
   "metadata": {},
   "outputs": [],
   "source": [
    "print(bytes(str_event, 'utf-8' ))"
   ]
  },
  {
   "cell_type": "code",
   "execution_count": null,
   "metadata": {},
   "outputs": [],
   "source": [
    "wat[4]['retweeted_status']#['extended_tweet']['full_text']"
   ]
  },
  {
   "cell_type": "code",
   "execution_count": null,
   "metadata": {},
   "outputs": [],
   "source": []
  }
 ],
 "metadata": {
  "kernelspec": {
   "display_name": "Python 3",
   "language": "python",
   "name": "python3"
  },
  "language_info": {
   "codemirror_mode": {
    "name": "ipython",
    "version": 3
   },
   "file_extension": ".py",
   "mimetype": "text/x-python",
   "name": "python",
   "nbconvert_exporter": "python",
   "pygments_lexer": "ipython3",
   "version": "3.6.6"
  }
 },
 "nbformat": 4,
 "nbformat_minor": 2
}
