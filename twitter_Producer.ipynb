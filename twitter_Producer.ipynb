{
 "cells": [
  {
   "cell_type": "code",
   "execution_count": 1,
   "metadata": {},
   "outputs": [],
   "source": [
    "import json\n",
    "import tweepy\n",
    "from kafka import KafkaProducer"
   ]
  },
  {
   "cell_type": "code",
   "execution_count": 2,
   "metadata": {},
   "outputs": [],
   "source": [
    "consumer_key = '9Kul4QgCP4QE7ydJvFrQcLFa4'\n",
    "consumer_secret = 'ne0nWw4lmZFFhDgKcSEL9ZDtMISy6wRmfvkh8FciTRhvNPSgkz'\n",
    "access_token = '1153221248039755776-5UMImVxLCzTZilh8ASrYqFErjZ73tB'\n",
    "access_secret = 'pWhFC5Bfo2Lx6BLdh3i62vxieXxpppOWzNj4leB1jo4b1'"
   ]
  },
  {
   "cell_type": "code",
   "execution_count": 3,
   "metadata": {},
   "outputs": [],
   "source": [
    "class TwitterStreamListener(tweepy.StreamListener):\n",
    "    def __init__(self):\n",
    "        self.producer = KafkaProducer(bootstrap_servers='localhost:9092', \n",
    "                                      value_serializer=lambda v: json.dumps(v).encode('utf-8'))\n",
    "        self.tweets = []\n",
    "\n",
    "    def on_data2(self, data):\n",
    "        # data is the full *tweet* json data\n",
    "        api_events = json.loads(data)\n",
    "        \n",
    "        # Gathring relevant values\n",
    "        # Event-related values\n",
    "        event_keys = ['created_at', 'id', 'text']\n",
    "        twitter_events = {k:v for k,v in api_events.items() \n",
    "                          if k in event_keys}\n",
    "        twitter_events['tweet_created_at'] = twitter_events.pop('created_at')\n",
    "        twitter_events['tweet_id'] = twitter_events.pop('id')\n",
    "        # User-related values\n",
    "        user_keys = ['id', 'name', 'created_at', 'location', 'url', 'protected', 'verified', \n",
    "                     'followers_count', 'friends_count','listed_count', 'favourites_count', \n",
    "                     'statuses_count', 'withheld_in_countries']\n",
    "        user_events = {k:v for k,v in api_events['user'].items() \n",
    "                       if k in user_keys}\n",
    "        user_events['user_acount_created_at'] = user_events.pop('created_at')\n",
    "        user_events['user_id'] = user_events.pop('id')\n",
    "        \n",
    "        # Marge dictioneries\n",
    "        user_events.update(twitter_events)\n",
    "        events = user_events\n",
    "        \n",
    "        # send data to kafka topic(s)\n",
    "        self.producer.send('TweeterArchive', events)\n",
    "        self.producer.send('TweeterData', events)\n",
    "        self.producer.flush()\n",
    "        print(events['text'])\n",
    "\n",
    "    def on_data(self, data):    \n",
    "        self.producer.send('TweeterArchive', data)\n",
    "        self.producer.flush()\n",
    "        \n",
    "    def on_error(self, status_code):\n",
    "        if status_code == 420:\n",
    "            return False"
   ]
  },
  {
   "cell_type": "code",
   "execution_count": 4,
   "metadata": {},
   "outputs": [],
   "source": [
    "def initialize():\n",
    "\n",
    "    auth = tweepy.OAuthHandler(consumer_key, consumer_secret)\n",
    "    auth.set_access_token(access_token, access_secret)\n",
    "    api = tweepy.API(auth)\n",
    "\n",
    "    stream = TwitterStreamListener()\n",
    "    twitter_stream = tweepy.Stream(auth=api.auth, listener=stream)\n",
    "    twitter_stream.filter(track=['Israel'], languages=['en'])"
   ]
  },
  {
   "cell_type": "code",
   "execution_count": null,
   "metadata": {},
   "outputs": [],
   "source": [
    "initialize()"
   ]
  },
  {
   "cell_type": "code",
   "execution_count": null,
   "metadata": {},
   "outputs": [],
   "source": []
  }
 ],
 "metadata": {
  "kernelspec": {
   "display_name": "Python 3",
   "language": "python",
   "name": "python3"
  },
  "language_info": {
   "codemirror_mode": {
    "name": "ipython",
    "version": 3
   },
   "file_extension": ".py",
   "mimetype": "text/x-python",
   "name": "python",
   "nbconvert_exporter": "python",
   "pygments_lexer": "ipython3",
   "version": "3.6.6"
  }
 },
 "nbformat": 4,
 "nbformat_minor": 2
}
