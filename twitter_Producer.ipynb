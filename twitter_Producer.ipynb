{
 "cells": [
  {
   "cell_type": "code",
   "execution_count": null,
   "metadata": {},
   "outputs": [],
   "source": [
    "import json\n",
    "import tweepy\n",
    "import sys\n",
    "import traceback\n",
    "from datetime import datetime, timezone\n",
    "from kafka import KafkaProducer"
   ]
  },
  {
   "cell_type": "code",
   "execution_count": null,
   "metadata": {},
   "outputs": [],
   "source": [
    "consumer_key    = 'T3bxHQI78bQSMxhryPQk4rgMs'\n",
    "consumer_secret = 'uZEP6eLjUGGkS4YtRvm3PISnpMlho7vniHKeoZMF2NVu9B6rpe'\n",
    "access_token    = '1207006565074640897-c761jqaeRPkTPeyjBFxlPqsirDhYQ1'\n",
    "access_secret   = 'qmJiaHbct4hshX4mcVIx2BuKCPdo8xndNPb7bOLes4MOs'"
   ]
  },
  {
   "cell_type": "code",
   "execution_count": null,
   "metadata": {},
   "outputs": [],
   "source": [
    "# Probably you can compare the performance of opposing hashtags insuch way\n",
    "#Keywords = \"#OwenJonesIsAWankerDay #SolidarityWithOwenJonesDay\""
   ]
  },
  {
   "cell_type": "code",
   "execution_count": null,
   "metadata": {},
   "outputs": [],
   "source": [
    "Keywords = 'Israel'"
   ]
  },
  {
   "cell_type": "code",
   "execution_count": null,
   "metadata": {},
   "outputs": [],
   "source": [
    "class TwitterStreamListener(tweepy.StreamListener):\n",
    "    def __init__(self):\n",
    "        self.producer = KafkaProducer(bootstrap_servers='localhost:9092',\n",
    "                                      key_serializer=str.encode, \n",
    "                                      value_serializer=lambda v: json.dumps(v).encode('utf-8'))\n",
    "\n",
    "        self.datefmt = \"%a %b %d %H:%M:%S %z %Y\"\n",
    "        self.topic = \"TweeterArchive\"\n",
    "        self.tweets = []\n",
    "        self.rawdata = [] \n",
    "        self.count = 0\n",
    "        self.ltweet = ''        \n",
    "    def on_data(self, data):\n",
    "        # data is the full *tweet* json data\n",
    "        api_events = json.loads(data)\n",
    "      \n",
    "        # save raw json data in memory array for debugging\n",
    "        self.rawdata.append(data)\n",
    "        \n",
    "        #filter out retweets\n",
    "        if not api_events['text'].startswith('RT'):\n",
    "            \n",
    "            # Gathering relevant values\n",
    "            # Tweet-related values\n",
    "            event_fields = [ 'id', 'text','created_at', 'geo', 'coordinates', 'place',\n",
    "                          \"quote_count\", \"reply_count\", \"retweet_count\", \"favorite_count\" ]\n",
    "            twitter_events = {k:v for k,v in api_events.items() \n",
    "                              if k in event_fields}    \n",
    "            \n",
    "            tweet_key, tweet_created_at = self.date_fmt_convert(twitter_events['created_at'])\n",
    "                        \n",
    "            twitter_events['created_at'] = tweet_created_at\n",
    "            \n",
    "            # When tweets are longer than 140 symbols, the 'text' field gets truncated, and the\n",
    "            # full text is in ['extended_tweet']['full_text']\n",
    "            if 'extended_tweet' in api_events:\n",
    "                twitter_events['text'] = api_events['extended_tweet']['full_text']\n",
    "\n",
    "            # User-related values\n",
    "            user_fields = ['id', 'name', 'screen_name','created_at', 'location', 'url',\n",
    "                         'protected', 'verified', 'followers_count', 'friends_count',\n",
    "                         'listed_count', 'favourites_count', 'statuses_count', 'withheld_in_countries']\n",
    "            user_events = {k:v for k,v in api_events['user'].items() \n",
    "                           if k in user_fields}\n",
    "           \n",
    "            user_events['created_ym'], user_events['created_at'] = self.date_fmt_convert(user_events['created_at'],fmt = \"%Y%m\") \n",
    "\n",
    "            twitter_events['user_id'] = user_events['id'] \n",
    "            twitter_events['user_followers'] = user_events['followers_count']\n",
    "            \n",
    "            events = {'users':user_events, 'tweets': twitter_events }                \n",
    "\n",
    "            # save processed dictionary in memory array for debugging\n",
    "            self.tweets.append((tweet_key,events))\n",
    "            # print last tweet to console on the same line\n",
    "            self.ltweet = events['tweets']['text'][:50].replace('\\n','')\n",
    "             \n",
    "            self.send_to_kafka(str(tweet_key), events)                 \n",
    "            \n",
    "        print('\\r tweets received: '+ str(self.count) + '| last relevant tweet: ' + self.ltweet,end='')                \n",
    "        self.count+=1        \n",
    "\n",
    "    def send_to_kafka(self, key, data):  \n",
    "        \n",
    "        # send data to kafka topic(s)\n",
    "        #self.producer.send('TweeterArchive', events)\n",
    "        #self.producer.send('TweeterData', events) \n",
    "        self.producer.send(self.topic, key = key, value = data)\n",
    "        self.producer.flush()\n",
    "        \n",
    "    def date_fmt_convert(self, date, fmt = \"%Y%m%d%H%M\"):        \n",
    "        # Convert twitter datetime format such as \n",
    "        # \"Sat Jan 4 11:39:13 +0500 2019\"\n",
    "        # to partitioning-compatible format and shift it to utc, so: \n",
    "        # key (int): 201901040639, timestamp (int): 1547420603\n",
    "        date_time_obj = datetime.strptime(date, self.datefmt)\n",
    "        date_time_obj.astimezone(tz=timezone.utc)\n",
    "        return date_time_obj.strftime(fmt), int(date_time_obj.timestamp())\n",
    "\n",
    "\n",
    "    def on_error(self, status_code):\n",
    "        if status_code == 420:\n",
    "            return False"
   ]
  },
  {
   "cell_type": "code",
   "execution_count": null,
   "metadata": {},
   "outputs": [],
   "source": [
    "def initialize():\n",
    "    try:\n",
    "        auth = tweepy.OAuthHandler(consumer_key, consumer_secret)\n",
    "        auth.set_access_token(access_token, access_secret)\n",
    "        api = tweepy.API(auth)\n",
    "\n",
    "        stream = TwitterStreamListener()\n",
    "        twitter_stream = tweepy.Stream(auth=api.auth, listener=stream)\n",
    "        twitter_stream.filter(track=[Keywords], languages=['en']) # -filter:retweets\n",
    "    except (KeyboardInterrupt, Exception) as oops:\n",
    "        print(\"\\noops \" + repr(oops))\n",
    "        #print(''.join(traceback.format_tb(oops.__traceback__)))\n",
    "        return stream, oops"
   ]
  },
  {
   "cell_type": "code",
   "execution_count": null,
   "metadata": {},
   "outputs": [],
   "source": [
    "stream,oops = initialize()"
   ]
  },
  {
   "cell_type": "code",
   "execution_count": null,
   "metadata": {},
   "outputs": [],
   "source": [
    "oops"
   ]
  },
  {
   "cell_type": "markdown",
   "metadata": {},
   "source": [
    "## Sandbox \n",
    "below are cells that I played with to test portions of code\n"
   ]
  },
  {
   "cell_type": "code",
   "execution_count": null,
   "metadata": {
    "scrolled": true
   },
   "outputs": [],
   "source": [
    "int.encode(3423)"
   ]
  },
  {
   "cell_type": "code",
   "execution_count": null,
   "metadata": {
    "scrolled": true
   },
   "outputs": [],
   "source": [
    "dir(str.encode('434234'))"
   ]
  },
  {
   "cell_type": "code",
   "execution_count": null,
   "metadata": {},
   "outputs": [],
   "source": [
    "wat = str.encode('434g34')\n",
    "wat.isalnum()"
   ]
  },
  {
   "cell_type": "code",
   "execution_count": null,
   "metadata": {},
   "outputs": [],
   "source": [
    "wat"
   ]
  },
  {
   "cell_type": "code",
   "execution_count": null,
   "metadata": {},
   "outputs": [],
   "source": [
    "i = 99991231235\n",
    "#i=1\n",
    "i"
   ]
  },
  {
   "cell_type": "code",
   "execution_count": null,
   "metadata": {},
   "outputs": [],
   "source": [
    "len(str(i))"
   ]
  },
  {
   "cell_type": "code",
   "execution_count": null,
   "metadata": {},
   "outputs": [],
   "source": [
    "encode = lambda x : x.to_bytes(5, byteorder='big')\n",
    "decode = lambda x : int.from_bytes(x, byteorder='big')"
   ]
  },
  {
   "cell_type": "code",
   "execution_count": null,
   "metadata": {},
   "outputs": [],
   "source": [
    "ii = encode(i)"
   ]
  },
  {
   "cell_type": "code",
   "execution_count": null,
   "metadata": {},
   "outputs": [],
   "source": [
    "ii"
   ]
  },
  {
   "cell_type": "code",
   "execution_count": null,
   "metadata": {},
   "outputs": [],
   "source": [
    "decode(encode(i))"
   ]
  },
  {
   "cell_type": "code",
   "execution_count": null,
   "metadata": {},
   "outputs": [],
   "source": [
    "decode(encode(i)) == i"
   ]
  },
  {
   "cell_type": "code",
   "execution_count": null,
   "metadata": {},
   "outputs": [],
   "source": [
    "int.from_bytes(hm, byteorder='big')"
   ]
  },
  {
   "cell_type": "code",
   "execution_count": null,
   "metadata": {},
   "outputs": [],
   "source": [
    "hm.isalnum()"
   ]
  },
  {
   "cell_type": "code",
   "execution_count": null,
   "metadata": {},
   "outputs": [],
   "source": [
    "int(hm, base =2, byteorder='big')"
   ]
  },
  {
   "cell_type": "code",
   "execution_count": null,
   "metadata": {},
   "outputs": [],
   "source": [
    "traceback.extract_tb(oops.__traceback__ )"
   ]
  },
  {
   "cell_type": "code",
   "execution_count": null,
   "metadata": {},
   "outputs": [],
   "source": [
    "datefmt = \"%a %b %d %H:%M:%S %z %Y\"\n",
    "\n",
    "date = \"Sun Jan 13 23:03:23 +0000 2019\"\n",
    "\n",
    "def date_fmt_convert(date, fmt = \"%Y%m%d%H%M\"):        \n",
    "    # Convert twitter datetime format such as \n",
    "    # \"Sat Jan 4 11:39:13 +0500 2019\"\n",
    "    # to partitioning-compatible format and shift it to utc, so: \n",
    "    # int: 201901040639, int: \n",
    "    date_time_obj = datetime.strptime(date, datefmt)\n",
    "    date_time_obj.astimezone(tz=timezone.utc)\n",
    "    return int(date_time_obj.strftime(fmt)), int(date_time_obj.timestamp())"
   ]
  },
  {
   "cell_type": "code",
   "execution_count": null,
   "metadata": {},
   "outputs": [],
   "source": [
    "date_fmt_convert(date)"
   ]
  },
  {
   "cell_type": "code",
   "execution_count": null,
   "metadata": {},
   "outputs": [],
   "source": [
    "tweets = stream.tweets"
   ]
  },
  {
   "cell_type": "code",
   "execution_count": null,
   "metadata": {},
   "outputs": [],
   "source": [
    "rawdata = stream.rawdata"
   ]
  },
  {
   "cell_type": "code",
   "execution_count": null,
   "metadata": {},
   "outputs": [],
   "source": [
    "wat = tweets\n",
    "print(len(wat))\n",
    "wat4 = wat[1]\n",
    "wat4"
   ]
  },
  {
   "cell_type": "code",
   "execution_count": null,
   "metadata": {},
   "outputs": [],
   "source": [
    "wat4[1]"
   ]
  },
  {
   "cell_type": "code",
   "execution_count": null,
   "metadata": {},
   "outputs": [],
   "source": [
    "wat4 = wat4.replace('1210547837035073536', '12105478370350735364305983475023948606723056927602')\n",
    "wat4"
   ]
  },
  {
   "cell_type": "code",
   "execution_count": null,
   "metadata": {},
   "outputs": [],
   "source": [
    "watj = json.loads(wat4)"
   ]
  },
  {
   "cell_type": "code",
   "execution_count": null,
   "metadata": {},
   "outputs": [],
   "source": [
    "watj"
   ]
  },
  {
   "cell_type": "code",
   "execution_count": null,
   "metadata": {},
   "outputs": [],
   "source": [
    "id = wat4[1]['user']['id']"
   ]
  },
  {
   "cell_type": "code",
   "execution_count": null,
   "metadata": {},
   "outputs": [],
   "source": [
    "wat4"
   ]
  },
  {
   "cell_type": "code",
   "execution_count": null,
   "metadata": {},
   "outputs": [],
   "source": [
    "print(json.loads(wat[i])['extended_tweet']['full_text'])"
   ]
  },
  {
   "cell_type": "code",
   "execution_count": null,
   "metadata": {},
   "outputs": [],
   "source": [
    "print(json.dumps(json.loads(wat[i])))"
   ]
  },
  {
   "cell_type": "code",
   "execution_count": null,
   "metadata": {},
   "outputs": [],
   "source": [
    "    date_time_obj = datetime.strptime(date, self.datefmt)\n",
    "        date_time_obj = date_time_obj.astimezone(tz=timezone.utc)\n",
    "        return date_time_obj.strftime(\"%Y-%m-%d_%H-%M\")\n"
   ]
  },
  {
   "cell_type": "code",
   "execution_count": null,
   "metadata": {},
   "outputs": [],
   "source": [
    "date = wat4['tweet']['created_at']"
   ]
  },
  {
   "cell_type": "code",
   "execution_count": null,
   "metadata": {},
   "outputs": [],
   "source": [
    " date_time_obj = datetime.strptime(date, \"%Y-%m-%d_%H-%M\")"
   ]
  },
  {
   "cell_type": "code",
   "execution_count": null,
   "metadata": {},
   "outputs": [],
   "source": [
    "type(date_time_obj.timestamp())"
   ]
  },
  {
   "cell_type": "code",
   "execution_count": null,
   "metadata": {},
   "outputs": [],
   "source": [
    "api_event = json.loads(wat4)"
   ]
  },
  {
   "cell_type": "code",
   "execution_count": null,
   "metadata": {},
   "outputs": [],
   "source": [
    "api_event['retweeted']"
   ]
  },
  {
   "cell_type": "code",
   "execution_count": null,
   "metadata": {},
   "outputs": [],
   "source": [
    "api_event"
   ]
  },
  {
   "cell_type": "code",
   "execution_count": null,
   "metadata": {},
   "outputs": [],
   "source": [
    "str_event = json.dumps(api_event, ensure_ascii=False)\n",
    "str_event"
   ]
  },
  {
   "cell_type": "code",
   "execution_count": null,
   "metadata": {},
   "outputs": [],
   "source": [
    "with open('./test.json','w') as f:\n",
    "    str_event = json.dump(api_event,f, ensure_ascii=False)\n",
    "str_event"
   ]
  },
  {
   "cell_type": "code",
   "execution_count": null,
   "metadata": {},
   "outputs": [],
   "source": [
    "print(bytes(str_event, 'utf-8' ))"
   ]
  },
  {
   "cell_type": "code",
   "execution_count": null,
   "metadata": {},
   "outputs": [],
   "source": [
    "wat[4]['retweeted_status']#['extended_tweet']['full_text']"
   ]
  },
  {
   "cell_type": "code",
   "execution_count": null,
   "metadata": {},
   "outputs": [],
   "source": []
  }
 ],
 "metadata": {
  "kernelspec": {
   "display_name": "Python 3",
   "language": "python",
   "name": "python3"
  },
  "language_info": {
   "codemirror_mode": {
    "name": "ipython",
    "version": 3
   },
   "file_extension": ".py",
   "mimetype": "text/x-python",
   "name": "python",
   "nbconvert_exporter": "python",
   "pygments_lexer": "ipython3",
   "version": "3.6.6"
  }
 },
 "nbformat": 4,
 "nbformat_minor": 2
}
