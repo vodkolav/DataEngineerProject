{
 "cells": [
  {
   "cell_type": "markdown",
   "metadata": {},
   "source": [
    "## Notebook for playing with code snippets"
   ]
  },
  {
   "cell_type": "code",
   "execution_count": null,
   "metadata": {},
   "outputs": [],
   "source": [
    "import json\n",
    "import tweepy\n",
    "from datetime import datetime, timezone\n",
    "from kafka import KafkaProducer"
   ]
  },
  {
   "cell_type": "code",
   "execution_count": null,
   "metadata": {},
   "outputs": [],
   "source": [
    "value_serializer=lambda v: json.dumps(v).encode()\n",
    "value_serializer(json.dumps('afgsfgsdfg'))"
   ]
  },
  {
   "cell_type": "code",
   "execution_count": null,
   "metadata": {},
   "outputs": [],
   "source": [
    "dat = \"Sat Jan 4 11:39:13 +0500 2019\"\n",
    "fmt = \"%a %b %d %H:%M:%S %z %Y\"\n",
    "date_time_obj = datetime.strptime(dat, fmt)\n",
    "(date_time_obj)"
   ]
  },
  {
   "cell_type": "code",
   "execution_count": null,
   "metadata": {},
   "outputs": [],
   "source": [
    "date_time_obj = date_time_obj.astimezone(tz=timezone.utc)\n",
    "date_time_obj"
   ]
  },
  {
   "cell_type": "code",
   "execution_count": null,
   "metadata": {},
   "outputs": [],
   "source": [
    "date_time_obj.strftime(\"%Y-%m-%d_%H-%M\")"
   ]
  },
  {
   "cell_type": "code",
   "execution_count": null,
   "metadata": {},
   "outputs": [],
   "source": [
    "ified fields.\n",
    "Type:      builtin_function_or_method"
   ]
  },
  {
   "cell_type": "code",
   "execution_count": null,
   "metadata": {},
   "outputs": [],
   "source": [
    "\"Jun 28 2018 at 7:40AM\" -> \"%b %d %Y at %I:%M%p\"\n",
    "\"September 18, 2017, 22:19:55\" -> \"%B %d, %Y, %H:%M:%S\"\n",
    "\"Sun,05/12/99,12:30PM\" -> \"%a,%d/%m/%y,%I:%M%p\"\n",
    "\"Mon, 21 March, 2015\" -> \"%a, %d %B, %Y\"\n",
    "\"2018-03-12T10:12:45Z\" -> \"%Y-%m-%dT%H:%M:%SZ\""
   ]
  },
  {
   "cell_type": "code",
   "execution_count": null,
   "metadata": {},
   "outputs": [],
   "source": [
    "type(api)"
   ]
  },
  {
   "cell_type": "code",
   "execution_count": null,
   "metadata": {},
   "outputs": [],
   "source": [
    "from time import time, sleep\n",
    "print('sdfsd')\n",
    "for i in range(10):\n",
    "    sleep(.2)\n",
    "    print('\\r'+str(i),end='')"
   ]
  },
  {
   "cell_type": "code",
   "execution_count": null,
   "metadata": {},
   "outputs": [],
   "source": [
    "\n",
    "initialize()"
   ]
  },
  {
   "cell_type": "code",
   "execution_count": null,
   "metadata": {},
   "outputs": [],
   "source": [
    "\n",
    "id_of_tweet = \"1207211310456463360\"\n",
    "\n",
    "tweet = api.get_status(id_of_tweet, tweet_mode='extended')._json['full_text']\n",
    "print(tweet)"
   ]
  },
  {
   "cell_type": "code",
   "execution_count": null,
   "metadata": {},
   "outputs": [],
   "source": [
    "dir(tweet)"
   ]
  },
  {
   "cell_type": "code",
   "execution_count": null,
   "metadata": {},
   "outputs": [],
   "source": [
    "tweet._json"
   ]
  },
  {
   "cell_type": "code",
   "execution_count": null,
   "metadata": {},
   "outputs": [],
   "source": [
    "tweet2 = json.loads(tweet)"
   ]
  },
  {
   "cell_type": "code",
   "execution_count": null,
   "metadata": {},
   "outputs": [],
   "source": [
    "            # Merge dictionaries\n",
    "#             user_events.update(twitter_events)"
   ]
  },
  {
   "cell_type": "code",
   "execution_count": null,
   "metadata": {},
   "outputs": [],
   "source": [
    "jsn = \"{\\\"user\\\": {\\\"id\\\": 1026860244, \\\"name\\\": \\\"Spaceman Spiff\\\", \\\"screen_name\\\": \\\"rajreddynyc\\\", \\\"location\\\": \\\"Queens, NY\\\", \\\"url\\\": null, \\\"protected\\\": false, \\\"verified\\\": false, \\\"followers_count\\\": 242, \\\"friends_count\\\": 54, \\\"listed_count\\\": 62, \\\"favourites_count\\\": 3108, \\\"statuses_count\\\": 193145, \\\"created_at\\\": \\\"Fri Dec 21 18:05:02 +0000 2012\\\"}, \\\"tweet\\\": {\\\"created_at\\\": \\\"Sat Dec 21 19:42:56 +0000 2019\\\", \\\"id\\\": 1208472941035438080, \\\"text\\\": \\\"@shambhav15 @Sanjay_Dixit the poem was like distributing nazi pamphlets in Israel.\\\", \\\"geo\\\": null, \\\"coordinates\\\": null, \\\"place\\\": null, \\\"quote_count\\\": 0, \\\"reply_count\\\": 0, \\\"retweet_count\\\": 0, \\\"favorite_count\\\": 0}}\"\n",
    "jsn"
   ]
  },
  {
   "cell_type": "code",
   "execution_count": null,
   "metadata": {
    "scrolled": true
   },
   "outputs": [],
   "source": [
    "json.loads(jsn)"
   ]
  },
  {
   "cell_type": "code",
   "execution_count": null,
   "metadata": {},
   "outputs": [],
   "source": [
    "from __future__ import print_function\n",
    "\n",
    "import sys\n",
    "import os\n",
    "from pyspark.sql import SparkSession\n",
    "from pyspark.sql.functions import explode\n",
    "from pyspark.sql.functions import split, from_json\n",
    "from time import time, sleep\n",
    "\n",
    "from pyspark.sql.types import StructType, StringType, MapType, StructField\n"
   ]
  },
  {
   "cell_type": "code",
   "execution_count": null,
   "metadata": {},
   "outputs": [],
   "source": [
    "event_keys = ['created_at', 'id', 'text', 'geo', 'coordinates', 'place',\n",
    "                          \"quote_count\", \"reply_count\", \"retweet_count\", \"favorite_count\" ]\n",
    "\n",
    "user_keys = ['id', 'name', 'screen_name','created_at', 'location', 'url',\n",
    "             'protected', 'verified', 'followers_count', 'friends_count',\n",
    "             'listed_count', 'favourites_count', 'statuses_count', 'withheld_in_countries']\n",
    "\n",
    "\n"
   ]
  },
  {
   "cell_type": "code",
   "execution_count": null,
   "metadata": {},
   "outputs": [],
   "source": [
    "schema = StructType([\n",
    "    StructField(\"created_at\", StringType(), True),\n",
    "    StructField(\"id\", StringType(), True),\n",
    "    StructField(\"text\", StringType(), True),\n",
    "])"
   ]
  },
  {
   "cell_type": "code",
   "execution_count": null,
   "metadata": {},
   "outputs": [],
   "source": [
    "schema"
   ]
  },
  {
   "cell_type": "code",
   "execution_count": null,
   "metadata": {},
   "outputs": [],
   "source": []
  },
  {
   "cell_type": "code",
   "execution_count": null,
   "metadata": {},
   "outputs": [],
   "source": []
  }
 ],
 "metadata": {
  "kernelspec": {
   "display_name": "Python 3",
   "language": "python",
   "name": "python3"
  },
  "language_info": {
   "codemirror_mode": {
    "name": "ipython",
    "version": 3
   },
   "file_extension": ".py",
   "mimetype": "text/x-python",
   "name": "python",
   "nbconvert_exporter": "python",
   "pygments_lexer": "ipython3",
   "version": "3.6.6"
  }
 },
 "nbformat": 4,
 "nbformat_minor": 2
}
