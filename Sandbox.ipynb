{
 "cells": [
  {
   "cell_type": "markdown",
   "metadata": {},
   "source": [
    "## Notebook for playing with code snippets"
   ]
  },
  {
   "cell_type": "code",
   "execution_count": null,
   "metadata": {},
   "outputs": [],
   "source": [
    "import json\n",
    "import tweepy\n",
    "from datetime import datetime, timezone\n",
    "from kafka import KafkaProducer"
   ]
  },
  {
   "cell_type": "code",
   "execution_count": null,
   "metadata": {},
   "outputs": [],
   "source": [
    "value_serializer=lambda v: json.dumps(v).encode()\n",
    "value_serializer(json.dumps('afgsfgsdfg'))"
   ]
  },
  {
   "cell_type": "code",
   "execution_count": null,
   "metadata": {},
   "outputs": [],
   "source": [
    "dat = \"Sat Jan 4 11:39:13 +0500 2019\"\n",
    "fmt = \"%a %b %d %H:%M:%S %z %Y\"\n",
    "date_time_obj = datetime.strptime(dat, fmt)\n",
    "(date_time_obj)"
   ]
  },
  {
   "cell_type": "code",
   "execution_count": null,
   "metadata": {},
   "outputs": [],
   "source": [
    "date_time_obj = date_time_obj.astimezone(tz=timezone.utc)\n",
    "date_time_obj"
   ]
  },
  {
   "cell_type": "code",
   "execution_count": null,
   "metadata": {},
   "outputs": [],
   "source": [
    "date_time_obj.strftime(\"%Y-%m-%d_%H-%M\")"
   ]
  },
  {
   "cell_type": "code",
   "execution_count": null,
   "metadata": {},
   "outputs": [],
   "source": [
    "ified fields.\n",
    "Type:      builtin_function_or_method"
   ]
  },
  {
   "cell_type": "code",
   "execution_count": null,
   "metadata": {},
   "outputs": [],
   "source": [
    "\"Jun 28 2018 at 7:40AM\" -> \"%b %d %Y at %I:%M%p\"\n",
    "\"September 18, 2017, 22:19:55\" -> \"%B %d, %Y, %H:%M:%S\"\n",
    "\"Sun,05/12/99,12:30PM\" -> \"%a,%d/%m/%y,%I:%M%p\"\n",
    "\"Mon, 21 March, 2015\" -> \"%a, %d %B, %Y\"\n",
    "\"2018-03-12T10:12:45Z\" -> \"%Y-%m-%dT%H:%M:%SZ\""
   ]
  },
  {
   "cell_type": "code",
   "execution_count": null,
   "metadata": {},
   "outputs": [],
   "source": [
    "type(api)"
   ]
  },
  {
   "cell_type": "code",
   "execution_count": null,
   "metadata": {},
   "outputs": [],
   "source": [
    "from time import time, sleep\n",
    "print('sdfsd')\n",
    "for i in range(10):\n",
    "    sleep(.2)\n",
    "    print('\\r'+str(i),end='')"
   ]
  },
  {
   "cell_type": "code",
   "execution_count": null,
   "metadata": {},
   "outputs": [],
   "source": [
    "\n",
    "initialize()"
   ]
  },
  {
   "cell_type": "code",
   "execution_count": null,
   "metadata": {},
   "outputs": [],
   "source": [
    "\n",
    "id_of_tweet = \"1207211310456463360\"\n",
    "\n",
    "tweet = api.get_status(id_of_tweet, tweet_mode='extended')._json['full_text']\n",
    "print(tweet)"
   ]
  },
  {
   "cell_type": "code",
   "execution_count": null,
   "metadata": {},
   "outputs": [],
   "source": [
    "dir(tweet)"
   ]
  },
  {
   "cell_type": "code",
   "execution_count": null,
   "metadata": {},
   "outputs": [],
   "source": [
    "tweet._json"
   ]
  },
  {
   "cell_type": "code",
   "execution_count": null,
   "metadata": {},
   "outputs": [],
   "source": [
    "tweet2 = json.loads(tweet)"
   ]
  },
  {
   "cell_type": "code",
   "execution_count": null,
   "metadata": {},
   "outputs": [],
   "source": [
    "            # Merge dictionaries\n",
    "#             user_events.update(twitter_events)"
   ]
  },
  {
   "cell_type": "code",
   "execution_count": null,
   "metadata": {},
   "outputs": [],
   "source": [
    "jsn = \"{\\\"user\\\": {\\\"id\\\": 1026860244, \\\"name\\\": \\\"Spaceman Spiff\\\", \\\"screen_name\\\": \\\"rajreddynyc\\\", \\\"location\\\": \\\"Queens, NY\\\", \\\"url\\\": null, \\\"protected\\\": false, \\\"verified\\\": false, \\\"followers_count\\\": 242, \\\"friends_count\\\": 54, \\\"listed_count\\\": 62, \\\"favourites_count\\\": 3108, \\\"statuses_count\\\": 193145, \\\"created_at\\\": \\\"Fri Dec 21 18:05:02 +0000 2012\\\"}, \\\"tweet\\\": {\\\"created_at\\\": \\\"Sat Dec 21 19:42:56 +0000 2019\\\", \\\"id\\\": 1208472941035438080, \\\"text\\\": \\\"@shambhav15 @Sanjay_Dixit the poem was like distributing nazi pamphlets in Israel.\\\", \\\"geo\\\": null, \\\"coordinates\\\": null, \\\"place\\\": null, \\\"quote_count\\\": 0, \\\"reply_count\\\": 0, \\\"retweet_count\\\": 0, \\\"favorite_count\\\": 0}}\"\n",
    "jsn"
   ]
  },
  {
   "cell_type": "code",
   "execution_count": null,
   "metadata": {
    "scrolled": true
   },
   "outputs": [],
   "source": [
    "json.loads(jsn)"
   ]
  },
  {
   "cell_type": "code",
   "execution_count": null,
   "metadata": {},
   "outputs": [],
   "source": [
    "from __future__ import print_function\n",
    "\n",
    "import sys\n",
    "import os\n",
    "from pyspark.sql import SparkSession\n",
    "from pyspark.sql.functions import explode\n",
    "from pyspark.sql.functions import split, from_json\n",
    "from time import time, sleep\n",
    "\n",
    "from pyspark.sql.types import StructType, StringType, MapType, StructField\n"
   ]
  },
  {
   "cell_type": "code",
   "execution_count": null,
   "metadata": {},
   "outputs": [],
   "source": [
    "event_keys = ['created_at', 'id', 'text', 'geo', 'coordinates', 'place',\n",
    "                          \"quote_count\", \"reply_count\", \"retweet_count\", \"favorite_count\" ]\n",
    "\n",
    "user_keys = ['id', 'name', 'screen_name','created_at', 'location', 'url',\n",
    "             'protected', 'verified', 'followers_count', 'friends_count',\n",
    "             'listed_count', 'favourites_count', 'statuses_count', 'withheld_in_countries']\n",
    "\n",
    "\n"
   ]
  },
  {
   "cell_type": "code",
   "execution_count": null,
   "metadata": {},
   "outputs": [],
   "source": [
    "schema = StructType([\n",
    "    StructField(\"created_at\", StringType(), True),\n",
    "    StructField(\"id\", StringType(), True),\n",
    "    StructField(\"text\", StringType(), True),\n",
    "])"
   ]
  },
  {
   "cell_type": "code",
   "execution_count": null,
   "metadata": {},
   "outputs": [],
   "source": [
    "schema"
   ]
  },
  {
   "cell_type": "markdown",
   "metadata": {},
   "source": [
    "## Analytics\n"
   ]
  },
  {
   "cell_type": "code",
   "execution_count": 1,
   "metadata": {},
   "outputs": [],
   "source": [
    "from pyhive import hive"
   ]
  },
  {
   "cell_type": "code",
   "execution_count": 5,
   "metadata": {},
   "outputs": [],
   "source": [
    "hdfs_host = 'localhost'\n",
    "hdfs_port = 9870\n",
    "hive_port = 10000\n",
    "hive_username = 'hdfs'\n",
    "hive_password = 'naya'\n",
    "hive_database = 'twitter'\n",
    "hive_mode = 'CUSTOM'\n",
    "\n",
    "hive_cnx = hive.Connection(\n",
    "  host = hdfs_host, \n",
    "  port = hive_port, \n",
    "  username = hive_username,\n",
    "  password = hive_password,\n",
    "  auth = hive_mode,\n",
    "  database = hive_database )"
   ]
  },
  {
   "cell_type": "code",
   "execution_count": 14,
   "metadata": {},
   "outputs": [],
   "source": [
    "q = f\"select user_id from tweets \"\n",
    "res = ''\n",
    "with hive_cnx.cursor() as cursor:\n",
    "    cursor.execute(q)\n",
    "    res = cursor.fetchall()\n",
    "    "
   ]
  },
  {
   "cell_type": "code",
   "execution_count": 16,
   "metadata": {},
   "outputs": [
    {
     "data": {
      "text/plain": [
       "4620"
      ]
     },
     "execution_count": 16,
     "metadata": {},
     "output_type": "execute_result"
    }
   ],
   "source": [
    "len(res)"
   ]
  },
  {
   "cell_type": "code",
   "execution_count": 22,
   "metadata": {},
   "outputs": [
    {
     "data": {
      "text/plain": [
       "(819558555779010561,)"
      ]
     },
     "execution_count": 22,
     "metadata": {},
     "output_type": "execute_result"
    }
   ],
   "source": [
    "res[0]"
   ]
  },
  {
   "cell_type": "code",
   "execution_count": 23,
   "metadata": {},
   "outputs": [],
   "source": [
    "A = [r[0] for r in res]"
   ]
  },
  {
   "cell_type": "code",
   "execution_count": 30,
   "metadata": {},
   "outputs": [
    {
     "data": {
      "text/plain": [
       "[<matplotlib.lines.Line2D at 0x7fb96475eba8>]"
      ]
     },
     "execution_count": 30,
     "metadata": {},
     "output_type": "execute_result"
    },
    {
     "data": {
      "image/png": "[encoded data removed]",
      "text/plain": [
       "<Figure size 432x288 with 1 Axes>"
      ]
     },
     "metadata": {
      "needs_background": "light"
     },
     "output_type": "display_data"
    }
   ],
   "source": [
    "from matplotlib import pyplot as plt\n",
    "import numpy as np\n",
    "%matplotlib inline\n",
    "\n",
    "plt.plot(A, '.')"
   ]
  },
  {
   "cell_type": "code",
   "execution_count": 31,
   "metadata": {},
   "outputs": [],
   "source": [
    "\n",
    "A1 = np.array(A)"
   ]
  },
  {
   "cell_type": "code",
   "execution_count": 32,
   "metadata": {},
   "outputs": [],
   "source": [
    "B = A1[A1<6e16]"
   ]
  },
  {
   "cell_type": "code",
   "execution_count": 46,
   "metadata": {},
   "outputs": [
    {
     "data": {
      "text/plain": [
       "[<matplotlib.lines.Line2D at 0x7fb963a2e550>]"
      ]
     },
     "execution_count": 46,
     "metadata": {},
     "output_type": "execute_result"
    },
    {
     "data": {
      "image/png": "[encoded data removed]",
      "text/plain": [
       "<Figure size 432x288 with 1 Axes>"
      ]
     },
     "metadata": {
      "needs_background": "light"
     },
     "output_type": "display_data"
    }
   ],
   "source": [
    "plt.plot(B, '.')"
   ]
  },
  {
   "cell_type": "code",
   "execution_count": 48,
   "metadata": {},
   "outputs": [
    {
     "data": {
      "text/plain": [
       "(array([2720.,    0.,    0.,    0.,    0.,    0.,    0.,    0.,    0.,\n",
       "           0.,    0.,    0.,    0.,    0.,    0.,    0.,    0.,   61.,\n",
       "          67.,  106.,  122.,  102.,  104.,  106.,   95.,  118.,  142.,\n",
       "         187.,  216.,  474.]),\n",
       " array([8.22441000e+05, 4.03533008e+16, 8.07066016e+16, 1.21059902e+17,\n",
       "        1.61413203e+17, 2.01766504e+17, 2.42119805e+17, 2.82473105e+17,\n",
       "        3.22826406e+17, 3.63179707e+17, 4.03533008e+17, 4.43886309e+17,\n",
       "        4.84239609e+17, 5.24592910e+17, 5.64946211e+17, 6.05299512e+17,\n",
       "        6.45652813e+17, 6.86006113e+17, 7.26359414e+17, 7.66712715e+17,\n",
       "        8.07066016e+17, 8.47419316e+17, 8.87772617e+17, 9.28125918e+17,\n",
       "        9.68479219e+17, 1.00883252e+18, 1.04918582e+18, 1.08953912e+18,\n",
       "        1.12989242e+18, 1.17024572e+18, 1.21059902e+18]),\n",
       " <a list of 30 Patch objects>)"
      ]
     },
     "execution_count": 48,
     "metadata": {},
     "output_type": "execute_result"
    },
    {
     "data": {
      "image/png": "[encoded data removed]",
      "text/plain": [
       "<Figure size 432x288 with 1 Axes>"
      ]
     },
     "metadata": {
      "needs_background": "light"
     },
     "output_type": "display_data"
    }
   ],
   "source": [
    "plt.hist(A1,bins=30)"
   ]
  },
  {
   "cell_type": "code",
   "execution_count": 50,
   "metadata": {},
   "outputs": [
    {
     "data": {
      "text/plain": [
       "(array([565., 218., 111., 104., 142.,  90., 119.,  74.,  67.,  52.,  45.,\n",
       "         40.,  42.,   0.,  25.,  33.,  17.,  26.,  12.,  18.,  34.,  10.,\n",
       "         10.,   6.,  18.,  13.,  22.,   9.,  12.,  14.,  15.,  14.,  22.,\n",
       "         15.,  12.,   4.,   0.,   9.,   7.,  14.,   2.,   0.,   0.,   6.,\n",
       "         19.,  13.,  25.,  18.,  20.,  19.,  18.,  52.,  10.,  17.,  19.,\n",
       "         18.,  36.,  20.,  33.,  13.,  20.,  18.,  19.,   8.,  18.,  13.,\n",
       "         15.,  17.,  12.,  20.,   4.,   1.,   0.,   2.,   5.,   3.,   3.,\n",
       "          2.,   5.,   2.,   7.,   2.,   1.,   4.,   4.,   3.,  15.,   1.,\n",
       "          2.,   1.,   3.,   1.,   3.,   3.,  26.,   3.,   5.,   5.,  13.,\n",
       "         13.]),\n",
       " array([8.22441000e+05, 5.00415202e+07, 9.92605993e+07, 1.48479678e+08,\n",
       "        1.97698758e+08, 2.46917837e+08, 2.96136916e+08, 3.45355995e+08,\n",
       "        3.94575074e+08, 4.43794153e+08, 4.93013233e+08, 5.42232312e+08,\n",
       "        5.91451391e+08, 6.40670470e+08, 6.89889549e+08, 7.39108628e+08,\n",
       "        7.88327708e+08, 8.37546787e+08, 8.86765866e+08, 9.35984945e+08,\n",
       "        9.85204024e+08, 1.03442310e+09, 1.08364218e+09, 1.13286126e+09,\n",
       "        1.18208034e+09, 1.23129942e+09, 1.28051850e+09, 1.32973758e+09,\n",
       "        1.37895666e+09, 1.42817574e+09, 1.47739482e+09, 1.52661389e+09,\n",
       "        1.57583297e+09, 1.62505205e+09, 1.67427113e+09, 1.72349021e+09,\n",
       "        1.77270929e+09, 1.82192837e+09, 1.87114745e+09, 1.92036653e+09,\n",
       "        1.96958561e+09, 2.01880469e+09, 2.06802377e+09, 2.11724284e+09,\n",
       "        2.16646192e+09, 2.21568100e+09, 2.26490008e+09, 2.31411916e+09,\n",
       "        2.36333824e+09, 2.41255732e+09, 2.46177640e+09, 2.51099548e+09,\n",
       "        2.56021456e+09, 2.60943364e+09, 2.65865272e+09, 2.70787179e+09,\n",
       "        2.75709087e+09, 2.80630995e+09, 2.85552903e+09, 2.90474811e+09,\n",
       "        2.95396719e+09, 3.00318627e+09, 3.05240535e+09, 3.10162443e+09,\n",
       "        3.15084351e+09, 3.20006259e+09, 3.24928167e+09, 3.29850074e+09,\n",
       "        3.34771982e+09, 3.39693890e+09, 3.44615798e+09, 3.49537706e+09,\n",
       "        3.54459614e+09, 3.59381522e+09, 3.64303430e+09, 3.69225338e+09,\n",
       "        3.74147246e+09, 3.79069154e+09, 3.83991062e+09, 3.88912969e+09,\n",
       "        3.93834877e+09, 3.98756785e+09, 4.03678693e+09, 4.08600601e+09,\n",
       "        4.13522509e+09, 4.18444417e+09, 4.23366325e+09, 4.28288233e+09,\n",
       "        4.33210141e+09, 4.38132049e+09, 4.43053957e+09, 4.47975864e+09,\n",
       "        4.52897772e+09, 4.57819680e+09, 4.62741588e+09, 4.67663496e+09,\n",
       "        4.72585404e+09, 4.77507312e+09, 4.82429220e+09, 4.87351128e+09,\n",
       "        4.92273036e+09]),\n",
       " <a list of 100 Patch objects>)"
      ]
     },
     "execution_count": 50,
     "metadata": {},
     "output_type": "execute_result"
    },
    {
     "data": {
      "image/png": "[encoded data removed]",
      "text/plain": [
       "<Figure size 432x288 with 1 Axes>"
      ]
     },
     "metadata": {
      "needs_background": "light"
     },
     "output_type": "display_data"
    }
   ],
   "source": [
    "plt.hist(B,bins=100)"
   ]
  },
  {
   "cell_type": "code",
   "execution_count": 34,
   "metadata": {},
   "outputs": [
    {
     "data": {
      "text/plain": [
       "1210599023519977472"
      ]
     },
     "execution_count": 34,
     "metadata": {},
     "output_type": "execute_result"
    }
   ],
   "source": [
    "A1.max()"
   ]
  },
  {
   "cell_type": "code",
   "execution_count": 44,
   "metadata": {},
   "outputs": [],
   "source": [
    "wat = int(4523454056235238756239857623587263450238672309276028762034123125345245234562346363452345234523452345.1)"
   ]
  },
  {
   "cell_type": "code",
   "execution_count": 45,
   "metadata": {},
   "outputs": [
    {
     "data": {
      "text/plain": [
       "int"
      ]
     },
     "execution_count": 45,
     "metadata": {},
     "output_type": "execute_result"
    }
   ],
   "source": [
    "type(wat)"
   ]
  },
  {
   "cell_type": "code",
   "execution_count": null,
   "metadata": {},
   "outputs": [],
   "source": []
  }
 ],
 "metadata": {
  "kernelspec": {
   "display_name": "Python 3",
   "language": "python",
   "name": "python3"
  },
  "language_info": {
   "codemirror_mode": {
    "name": "ipython",
    "version": 3
   },
   "file_extension": ".py",
   "mimetype": "text/x-python",
   "name": "python",
   "nbconvert_exporter": "python",
   "pygments_lexer": "ipython3",
   "version": "3.6.6"
  }
 },
 "nbformat": 4,
 "nbformat_minor": 2
}
